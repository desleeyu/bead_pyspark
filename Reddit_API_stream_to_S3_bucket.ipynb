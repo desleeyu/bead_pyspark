{
  "cells": [
    {
      "cell_type": "code",
      "source": [
        "reddit_id = '<KEY>'\n",
        "reddit_secret = '<KEY>'\n",
        "aws_key = '<KEY>'\n",
        "aws_secret = '<KEY>'\n",
        "bucket = '<KEY>'"
      ],
      "metadata": {
        "id": "Ow_DlIDqcsd9"
      },
      "execution_count": 1,
      "outputs": []
    },
    {
      "cell_type": "code",
      "execution_count": 2,
      "metadata": {
        "colab": {
          "base_uri": "https://localhost:8080/"
        },
        "id": "9UZr9qEnV1mh",
        "outputId": "6dff37e5-ea6c-4441-8152-ad4b431af059"
      },
      "outputs": [
        {
          "output_type": "stream",
          "name": "stdout",
          "text": [
            "Collecting praw\n",
            "  Downloading praw-7.7.1-py3-none-any.whl (191 kB)\n",
            "\u001b[?25l     \u001b[90m━━━━━━━━━━━━━━━━━━━━━━━━━━━━━━━━━━━━━━━━\u001b[0m \u001b[32m0.0/191.0 kB\u001b[0m \u001b[31m?\u001b[0m eta \u001b[36m-:--:--\u001b[0m\r\u001b[2K     \u001b[91m━━━━━━━━━━━━━━━━━━━━━━━━━━━━━━━━━━━━━━\u001b[0m\u001b[91m╸\u001b[0m\u001b[90m━\u001b[0m \u001b[32m184.3/191.0 kB\u001b[0m \u001b[31m5.7 MB/s\u001b[0m eta \u001b[36m0:00:01\u001b[0m\r\u001b[2K     \u001b[90m━━━━━━━━━━━━━━━━━━━━━━━━━━━━━━━━━━━━━━━━\u001b[0m \u001b[32m191.0/191.0 kB\u001b[0m \u001b[31m4.9 MB/s\u001b[0m eta \u001b[36m0:00:00\u001b[0m\n",
            "\u001b[?25hCollecting prawcore<3,>=2.1 (from praw)\n",
            "  Downloading prawcore-2.4.0-py3-none-any.whl (17 kB)\n",
            "Collecting update-checker>=0.18 (from praw)\n",
            "  Downloading update_checker-0.18.0-py3-none-any.whl (7.0 kB)\n",
            "Requirement already satisfied: websocket-client>=0.54.0 in /usr/local/lib/python3.10/dist-packages (from praw) (1.7.0)\n",
            "Requirement already satisfied: requests<3.0,>=2.6.0 in /usr/local/lib/python3.10/dist-packages (from prawcore<3,>=2.1->praw) (2.31.0)\n",
            "Requirement already satisfied: charset-normalizer<4,>=2 in /usr/local/lib/python3.10/dist-packages (from requests<3.0,>=2.6.0->prawcore<3,>=2.1->praw) (3.3.2)\n",
            "Requirement already satisfied: idna<4,>=2.5 in /usr/local/lib/python3.10/dist-packages (from requests<3.0,>=2.6.0->prawcore<3,>=2.1->praw) (3.6)\n",
            "Requirement already satisfied: urllib3<3,>=1.21.1 in /usr/local/lib/python3.10/dist-packages (from requests<3.0,>=2.6.0->prawcore<3,>=2.1->praw) (2.0.7)\n",
            "Requirement already satisfied: certifi>=2017.4.17 in /usr/local/lib/python3.10/dist-packages (from requests<3.0,>=2.6.0->prawcore<3,>=2.1->praw) (2024.2.2)\n",
            "Installing collected packages: update-checker, prawcore, praw\n",
            "Successfully installed praw-7.7.1 prawcore-2.4.0 update-checker-0.18.0\n"
          ]
        }
      ],
      "source": [
        "!pip install praw"
      ]
    },
    {
      "cell_type": "code",
      "execution_count": 3,
      "metadata": {
        "id": "nKb9Cz90aPpB"
      },
      "outputs": [],
      "source": [
        "import praw\n",
        "\n",
        "reddit = praw.Reddit(\n",
        "    client_id= reddit_id ,\n",
        "    client_secret= reddit_secret,\n",
        "    user_agent=\"my user agent\",\n",
        "    check_for_async=False\n",
        ")"
      ]
    },
    {
      "cell_type": "code",
      "execution_count": 11,
      "metadata": {
        "id": "ThmtGD-KyRS8"
      },
      "outputs": [],
      "source": [
        "from datetime import datetime\n",
        "import pandas as pd\n",
        "from io import StringIO"
      ]
    },
    {
      "cell_type": "code",
      "execution_count": 5,
      "metadata": {
        "colab": {
          "base_uri": "https://localhost:8080/"
        },
        "id": "avq_x-k_zBLs",
        "outputId": "5491ba1d-4c9b-4fb6-af4e-cd214c4cfc3c"
      },
      "outputs": [
        {
          "output_type": "stream",
          "name": "stdout",
          "text": [
            "Collecting boto3\n",
            "  Downloading boto3-1.34.38-py3-none-any.whl (139 kB)\n",
            "\u001b[2K     \u001b[90m━━━━━━━━━━━━━━━━━━━━━━━━━━━━━━━━━━━━━━━━\u001b[0m \u001b[32m139.3/139.3 kB\u001b[0m \u001b[31m3.6 MB/s\u001b[0m eta \u001b[36m0:00:00\u001b[0m\n",
            "\u001b[?25hCollecting botocore<1.35.0,>=1.34.38 (from boto3)\n",
            "  Downloading botocore-1.34.38-py3-none-any.whl (11.9 MB)\n",
            "\u001b[2K     \u001b[90m━━━━━━━━━━━━━━━━━━━━━━━━━━━━━━━━━━━━━━━━\u001b[0m \u001b[32m11.9/11.9 MB\u001b[0m \u001b[31m76.6 MB/s\u001b[0m eta \u001b[36m0:00:00\u001b[0m\n",
            "\u001b[?25hCollecting jmespath<2.0.0,>=0.7.1 (from boto3)\n",
            "  Downloading jmespath-1.0.1-py3-none-any.whl (20 kB)\n",
            "Collecting s3transfer<0.11.0,>=0.10.0 (from boto3)\n",
            "  Downloading s3transfer-0.10.0-py3-none-any.whl (82 kB)\n",
            "\u001b[2K     \u001b[90m━━━━━━━━━━━━━━━━━━━━━━━━━━━━━━━━━━━━━━━━\u001b[0m \u001b[32m82.1/82.1 kB\u001b[0m \u001b[31m10.1 MB/s\u001b[0m eta \u001b[36m0:00:00\u001b[0m\n",
            "\u001b[?25hRequirement already satisfied: python-dateutil<3.0.0,>=2.1 in /usr/local/lib/python3.10/dist-packages (from botocore<1.35.0,>=1.34.38->boto3) (2.8.2)\n",
            "Requirement already satisfied: urllib3<2.1,>=1.25.4 in /usr/local/lib/python3.10/dist-packages (from botocore<1.35.0,>=1.34.38->boto3) (2.0.7)\n",
            "Requirement already satisfied: six>=1.5 in /usr/local/lib/python3.10/dist-packages (from python-dateutil<3.0.0,>=2.1->botocore<1.35.0,>=1.34.38->boto3) (1.16.0)\n",
            "Installing collected packages: jmespath, botocore, s3transfer, boto3\n",
            "Successfully installed boto3-1.34.38 botocore-1.34.38 jmespath-1.0.1 s3transfer-0.10.0\n"
          ]
        }
      ],
      "source": [
        "!pip install boto3"
      ]
    },
    {
      "cell_type": "code",
      "execution_count": 6,
      "metadata": {
        "id": "2JWMQaPrFGC0"
      },
      "outputs": [],
      "source": [
        "import boto3\n",
        "\n",
        "BUCKET_NAME = bucket # replace with your bucket name\n",
        "\n",
        "# enter authentication credentials\n",
        "s3 = boto3.resource('s3', aws_access_key_id = aws_key,\n",
        "                          aws_secret_access_key= aws_secret )"
      ]
    },
    {
      "cell_type": "code",
      "execution_count": 12,
      "metadata": {
        "colab": {
          "base_uri": "https://localhost:8080/",
          "height": 1000
        },
        "id": "DP-VTnFykJAZ",
        "outputId": "85c5e4b0-5e24-4e2e-940c-64f89bb752cf"
      },
      "outputs": [
        {
          "output_type": "stream",
          "name": "stdout",
          "text": [
            "        id                   dt         author  \\\n",
            "0  kpkmfxu  2024-02-09 01:31:09  Jumpstart_411   \n",
            "\n",
            "                                                body  \n",
            "0  Increase GST, vouchers and subsidies.  The inf...  \n",
            "        id                   dt        author  \\\n",
            "0  kpkmoaz  2024-02-09 01:32:45  anangrypudge   \n",
            "\n",
            "                                                body  \n",
            "0  \\nDon’t wait so long to make more 龙\\n\\nWait to...  \n",
            "        id                   dt              author                   body\n",
            "0  kpkmpjr  2024-02-09 01:33:00  Interesting_Ad2986  Typical chinaman, no?\n",
            "        id                   dt          author  \\\n",
            "0  kpkmryw  2024-02-09 01:33:29  freshcheesepie   \n",
            "\n",
            "                                                body  \n",
            "0  Just curious, none of the 4th gen lee come out...  \n",
            "        id                   dt   author  \\\n",
            "0  kpkms3l  2024-02-09 01:33:30  doc-tom   \n",
            "\n",
            "                                                body  \n",
            "0  >You are right that the government has never s...  \n",
            "        id                   dt    author  \\\n",
            "0  kpkms4m  2024-02-09 01:33:31  sera1111   \n",
            "\n",
            "                                                body  \n",
            "0  lets see, only small space needed to have chil...  \n",
            "        id                   dt           author  \\\n",
            "0  kpkmyur  2024-02-09 01:34:47  thestudiomaster   \n",
            "\n",
            "                                                body  \n",
            "0  I think his wife's reproductive organs have of...  \n",
            "        id                   dt     author  \\\n",
            "0  kpkn1vs  2024-02-09 01:35:21  stevenckc   \n",
            "\n",
            "                                                body  \n",
            "0  Wait too LONG and your dragon becomes a snake....  \n",
            "        id                   dt    author  \\\n",
            "0  kpkn68a  2024-02-09 01:36:11  18000rpm   \n",
            "\n",
            "                                                body  \n",
            "0  All Mormon men aged 19 to 26 are eligible to r...  \n",
            "        id                   dt          author  \\\n",
            "0  kpkne6z  2024-02-09 01:37:41  crazypoorbsian   \n",
            "\n",
            "                                                body  \n",
            "0  unstable job market\\n\\ncompetitive society\\n\\n...  \n",
            "        id                   dt    author  \\\n",
            "0  kpknfoq  2024-02-09 01:37:58  Tktopaz2   \n",
            "\n",
            "                                                body  \n",
            "0  I remember being approached by recruiters outs...  \n",
            "        id                   dt            author  \\\n",
            "0  kpknhhe  2024-02-09 01:38:18  moneyorangeapple   \n",
            "\n",
            "                                             body  \n",
            "0  Erm, his children like also not having babies?  \n"
          ]
        },
        {
          "output_type": "error",
          "ename": "KeyboardInterrupt",
          "evalue": "",
          "traceback": [
            "\u001b[0;31m---------------------------------------------------------------------------\u001b[0m",
            "\u001b[0;31mKeyboardInterrupt\u001b[0m                         Traceback (most recent call last)",
            "\u001b[0;32m<ipython-input-12-a3c8f9e9deaf>\u001b[0m in \u001b[0;36m<cell line: 5>\u001b[0;34m()\u001b[0m\n\u001b[1;32m      3\u001b[0m \u001b[0;34m\u001b[0m\u001b[0m\n\u001b[1;32m      4\u001b[0m \u001b[0msubreddit\u001b[0m \u001b[0;34m=\u001b[0m \u001b[0mreddit\u001b[0m\u001b[0;34m.\u001b[0m\u001b[0msubreddit\u001b[0m\u001b[0;34m(\u001b[0m\u001b[0;34m\"Singapore\"\u001b[0m\u001b[0;34m)\u001b[0m\u001b[0;34m\u001b[0m\u001b[0;34m\u001b[0m\u001b[0m\n\u001b[0;32m----> 5\u001b[0;31m \u001b[0;32mfor\u001b[0m \u001b[0mcomment\u001b[0m \u001b[0;32min\u001b[0m \u001b[0msubreddit\u001b[0m\u001b[0;34m.\u001b[0m\u001b[0mstream\u001b[0m\u001b[0;34m.\u001b[0m\u001b[0mcomments\u001b[0m\u001b[0;34m(\u001b[0m\u001b[0mskip_existing\u001b[0m\u001b[0;34m=\u001b[0m\u001b[0;32mTrue\u001b[0m\u001b[0;34m)\u001b[0m\u001b[0;34m:\u001b[0m\u001b[0;34m\u001b[0m\u001b[0;34m\u001b[0m\u001b[0m\n\u001b[0m\u001b[1;32m      6\u001b[0m   \u001b[0mnew\u001b[0m\u001b[0;34m.\u001b[0m\u001b[0mloc\u001b[0m\u001b[0;34m[\u001b[0m\u001b[0;36m0\u001b[0m\u001b[0;34m,\u001b[0m\u001b[0;34m'id'\u001b[0m\u001b[0;34m]\u001b[0m \u001b[0;34m=\u001b[0m \u001b[0mcomment\u001b[0m\u001b[0;34m.\u001b[0m\u001b[0mid\u001b[0m\u001b[0;34m\u001b[0m\u001b[0;34m\u001b[0m\u001b[0m\n\u001b[1;32m      7\u001b[0m   \u001b[0mnew\u001b[0m\u001b[0;34m.\u001b[0m\u001b[0mloc\u001b[0m\u001b[0;34m[\u001b[0m\u001b[0;36m0\u001b[0m\u001b[0;34m,\u001b[0m\u001b[0;34m\"dt\"\u001b[0m\u001b[0;34m]\u001b[0m \u001b[0;34m=\u001b[0m \u001b[0mdatetime\u001b[0m\u001b[0;34m.\u001b[0m\u001b[0mutcfromtimestamp\u001b[0m\u001b[0;34m(\u001b[0m\u001b[0mcomment\u001b[0m\u001b[0;34m.\u001b[0m\u001b[0mcreated_utc\u001b[0m\u001b[0;34m)\u001b[0m\u001b[0;34m\u001b[0m\u001b[0;34m\u001b[0m\u001b[0m\n",
            "\u001b[0;32m/usr/local/lib/python3.10/dist-packages/praw/models/util.py\u001b[0m in \u001b[0;36mstream_generator\u001b[0;34m(function, attribute_name, exclude_before, pause_after, skip_existing, **function_kwargs)\u001b[0m\n\u001b[1;32m    159\u001b[0m                 \u001b[0;32myield\u001b[0m \u001b[0;32mNone\u001b[0m\u001b[0;34m\u001b[0m\u001b[0;34m\u001b[0m\u001b[0m\n\u001b[1;32m    160\u001b[0m             \u001b[0;32melse\u001b[0m\u001b[0;34m:\u001b[0m\u001b[0;34m\u001b[0m\u001b[0;34m\u001b[0m\u001b[0m\n\u001b[0;32m--> 161\u001b[0;31m                 \u001b[0mtime\u001b[0m\u001b[0;34m.\u001b[0m\u001b[0msleep\u001b[0m\u001b[0;34m(\u001b[0m\u001b[0mexponential_counter\u001b[0m\u001b[0;34m.\u001b[0m\u001b[0mcounter\u001b[0m\u001b[0;34m(\u001b[0m\u001b[0;34m)\u001b[0m\u001b[0;34m)\u001b[0m\u001b[0;34m\u001b[0m\u001b[0;34m\u001b[0m\u001b[0m\n\u001b[0m\u001b[1;32m    162\u001b[0m \u001b[0;34m\u001b[0m\u001b[0m\n\u001b[1;32m    163\u001b[0m \u001b[0;34m\u001b[0m\u001b[0m\n",
            "\u001b[0;31mKeyboardInterrupt\u001b[0m: "
          ]
        }
      ],
      "source": [
        "dfOut = pd.DataFrame(columns =['id','dt','author','body'])\n",
        "new = pd.DataFrame(columns =['id','dt','author','body'])\n",
        "\n",
        "subreddit = reddit.subreddit(\"Singapore\")\n",
        "for comment in subreddit.stream.comments(skip_existing=True):\n",
        "  new.loc[0,'id'] = comment.id\n",
        "  new.loc[0,\"dt\"] = datetime.utcfromtimestamp(comment.created_utc)\n",
        "  new.loc[0,'body'] = comment.body\n",
        "  new.loc[0,'author'] = comment.author\n",
        "  print(new)\n",
        "\n",
        "  dfOut = pd.concat([dfOut,new]).reset_index(drop = True)\n",
        "\n",
        "\n",
        "  if len (dfOut) % 10 == 0:\n",
        "\n",
        "\n",
        "    latest_dt = new.loc[0,'dt']\n",
        "    filename =f'Out_{latest_dt}.csv'\n",
        "    csv_buffer = StringIO()\n",
        "    dfOut.to_csv(csv_buffer, index= False)\n",
        "    s3.Bucket(BUCKET_NAME).put_object(Key= filename, Body=csv_buffer.getvalue())\n",
        "    dfOut = dfOut[0:0]\n",
        "\n",
        "### for saving to local ####\n",
        "    # dfOut.to_csv(f'Out_{latest_dt}.csv')\n",
        "    # dfOut = dfOut[0:0]\n"
      ]
    }
  ],
  "metadata": {
    "colab": {
      "provenance": []
    },
    "kernelspec": {
      "display_name": "Python 3",
      "name": "python3"
    },
    "language_info": {
      "name": "python"
    }
  },
  "nbformat": 4,
  "nbformat_minor": 0
}